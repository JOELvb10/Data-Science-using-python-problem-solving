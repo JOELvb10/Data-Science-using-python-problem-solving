{
  "nbformat": 4,
  "nbformat_minor": 0,
  "metadata": {
    "colab": {
      "provenance": []
    },
    "kernelspec": {
      "name": "python3",
      "display_name": "Python 3"
    },
    "language_info": {
      "name": "python"
    }
  },
  "cells": [
    {
      "cell_type": "code",
      "execution_count": null,
      "metadata": {
        "colab": {
          "base_uri": "https://localhost:8080/"
        },
        "id": "jxLYKGyqVALV",
        "outputId": "1052e501-ddc7-4b46-86db-dbbbbf4ad1d3"
      },
      "outputs": [
        {
          "output_type": "stream",
          "name": "stdout",
          "text": [
            "Euclidean distance between point A and point B: 4.47213595499958\n"
          ]
        }
      ],
      "source": [
        "\n",
        "\"\"\"\n",
        "Euclidean distance is a measure of the straight-line distance between two points in a Euclidean space.\n",
        "In a two-dimensional space, the Euclidean distance between two points (x1, y1) and (x2, y2) is calculated using the formula:\n",
        "\n",
        "distance = sqrt((x2 - x1)^2 + (y2 - y1)^2)\n",
        "\"\"\"\n",
        "import numpy as np\n",
        "\n",
        "\n",
        "def euclidean_distance(point1, point2):\n",
        "    # Convert the points to NumPy arrays for vectorized operations\n",
        "    point1 = np.array(point1)\n",
        "    point2 = np.array(point2)\n",
        "\n",
        "    # Calculate the squared differences between corresponding coordinates\n",
        "    squared_diffs = (point2 - point1)**2\n",
        "\n",
        "    # Sum the squared differences and take the square root to get the distance\n",
        "    distance = np.sqrt(np.sum(squared_diffs))\n",
        "\n",
        "    return distance\n",
        "\n",
        "\n",
        "# Example usage\n",
        "point_a = (-2, 1)\n",
        "point_b = (2, -1)\n",
        "\n",
        "distance = euclidean_distance(point_a, point_b)\n",
        "print(\"Euclidean distance between point A and point B:\", distance)"
      ]
    },
    {
      "cell_type": "code",
      "source": [
        "\"\"\"\n",
        " Baye's therorem is used in probability and statistics to update the probability of a hypothesis based on new evidence\n",
        " Formula: P(A|B) = (P(B|A) * P(A)) / P(B)\n",
        " P(A|B) is the probability of hypothesis A given evidence B (posterior probability).\n",
        " P(B|A) is the probability of evidence B given hypothesis A (likelihood).\n",
        " P(A) is the prior probability of hypothesis A.\n",
        " P(B) is the probability of evidence B.\n",
        "\"\"\"\n",
        "import numpy as np\n",
        "\n",
        "\n",
        "def bayes_theorem(prior_prob, likelihood, evidence_prob):\n",
        "    # Calculate the posterior probability using Bayes' theorem formula\n",
        "    posterior_prob = (likelihood * prior_prob) / evidence_prob\n",
        "    return posterior_prob\n",
        "\n",
        "\n",
        "# Example usage\n",
        "prior_probability = 0.3       # Prior probability of the hypothesis\n",
        "likelihood = 0.7             # Likelihood of the evidence given the hypothesis\n",
        "evidence_probability = 0.5   # Probability of the evidence\n",
        "\n",
        "posterior_probability = bayes_theorem(\n",
        "    prior_probability, likelihood, evidence_probability)\n",
        "print(\"Posterior probability:\", posterior_probability)"
      ],
      "metadata": {
        "colab": {
          "base_uri": "https://localhost:8080/"
        },
        "id": "cAOJh-PBWDYj",
        "outputId": "163866ed-18fd-4642-c8eb-54cb8a74b2da"
      },
      "execution_count": null,
      "outputs": [
        {
          "output_type": "stream",
          "name": "stdout",
          "text": [
            "Posterior probability: 0.42\n"
          ]
        }
      ]
    },
    {
      "cell_type": "code",
      "source": [
        "import numpy as np\n",
        "\n",
        "def manhattan_distance(point1, point2):\n",
        "    # Convert the points to NumPy arrays for vectorized operations\n",
        "    point1 = np.array(point1)\n",
        "    point2 = np.array(point2)\n",
        "\n",
        "    # Calculate the absolute differences between corresponding coordinates\n",
        "    absolute_diffs = np.abs(point2 - point1)\n",
        "\n",
        "    # Sum the absolute differences to get the Manhattan distance\n",
        "    distance = np.sum(absolute_diffs)\n",
        "\n",
        "    return distance\n",
        "\n",
        "\n",
        "# Example usage\n",
        "point_a = (1, 1, 0)\n",
        "point_b = (4, 3, 0)\n",
        "\n",
        "distance = manhattan_distance(point_a, point_b)\n",
        "print(\"Manhattan distance between point A and point B:\", distance)"
      ],
      "metadata": {
        "colab": {
          "base_uri": "https://localhost:8080/"
        },
        "id": "XhAkZoL4WU7x",
        "outputId": "500f9452-ff83-4faf-f184-73103eb4ad6d"
      },
      "execution_count": null,
      "outputs": [
        {
          "output_type": "stream",
          "name": "stdout",
          "text": [
            "Manhattan distance between point A and point B: 5\n"
          ]
        }
      ]
    },
    {
      "cell_type": "code",
      "source": [
        "import numpy as np\n",
        "\n",
        "X = {0, 1, 2, 5, 6}\n",
        "Y = {0, 2, 3, 4, 5, 7, 9}\n",
        "\n",
        "intersection_size = len(np.intersect1d(list(X), list(Y)))\n",
        "union_size = len(np.union1d(list(X), list(Y)))\n",
        "\n",
        "jaccard_similarity = intersection_size / union_size\n",
        "print(\"Jaccard Similarity:\", jaccard_similarity)"
      ],
      "metadata": {
        "colab": {
          "base_uri": "https://localhost:8080/"
        },
        "id": "bLsoojuMWmiV",
        "outputId": "1d27ec31-e56a-4310-a50b-12a78fdf9b23"
      },
      "execution_count": null,
      "outputs": [
        {
          "output_type": "stream",
          "name": "stdout",
          "text": [
            "Jaccard Similarity: 0.3333333333333333\n"
          ]
        }
      ]
    },
    {
      "cell_type": "code",
      "source": [
        "import numpy as np\n",
        "\n",
        "x1 = int(input(\"Enter x1:\"))\n",
        "x2 = int(input(\"Enter x2:\"))\n",
        "x3 = int(input(\"Enter x3:\"))\n",
        "y1 = int(input(\"Enter y1:\"))\n",
        "y2 = int(input(\"Enter y2:\"))\n",
        "y3 = int(input(\"Enter y3:\"))\n",
        "\n",
        "x = np.array([x1, x2, x3])  # Replace x1, x2, x3 with the components of vector x\n",
        "y = np.array([y1, y2, y3])  # Replace y1, y2, y3 with the components of vector y\n",
        "\n",
        "dot_product = np.dot(x, y)\n",
        "magnitude_x = np.linalg.norm(x)\n",
        "magnitude_y = np.linalg.norm(y)\n",
        "\n",
        "cos_theta = dot_product / (magnitude_x * magnitude_y)\n",
        "theta = np.arccos(cos_theta)\n",
        "\n",
        "print(\"Dot Product:\", dot_product)\n",
        "print(\"Magnitude of x:\", magnitude_x)\n",
        "print(\"Magnitude of y:\", magnitude_y)\n",
        "print(\"Angle theta in radians:\", theta)"
      ],
      "metadata": {
        "colab": {
          "base_uri": "https://localhost:8080/"
        },
        "id": "8rMcODZwW8Zr",
        "outputId": "25891be9-a860-4cfe-8497-af3bd714d040"
      },
      "execution_count": null,
      "outputs": [
        {
          "output_type": "stream",
          "name": "stdout",
          "text": [
            "Enter x1:3\n",
            "Enter x2:5\n",
            "Enter x3:8\n",
            "Enter y1:12\n",
            "Enter y2:16\n",
            "Enter y3:18\n",
            "Dot Product: 260\n",
            "Magnitude of x: 9.899494936611665\n",
            "Magnitude of y: 26.90724809414742\n",
            "Angle theta in radians: 0.2191038903944001\n"
          ]
        }
      ]
    }
  ]
}